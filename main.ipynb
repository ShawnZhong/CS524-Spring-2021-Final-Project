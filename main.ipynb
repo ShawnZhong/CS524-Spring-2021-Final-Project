{
 "cells": [
  {
   "cell_type": "markdown",
   "metadata": {
    "cell_id": "00000-096bf7b1-12d1-4784-bd58-900c5ac333fe",
    "deepnote_cell_type": "text-cell-h1",
    "tags": []
   },
   "source": [
    "# Introduction"
   ]
  },
  {
   "cell_type": "markdown",
   "metadata": {
    "cell_id": "00000-7ae4305a-1e8d-4d60-a392-7db1c550ec5c",
    "deepnote_cell_type": "markdown",
    "tags": []
   },
   "source": [
    "The requirements for undergraduate CS certificate can be found at https://guide.wisc.edu/undergraduate/letters-science/computer-sciences/computer-sciences-ba/#requirementstext. "
   ]
  },
  {
   "cell_type": "markdown",
   "metadata": {
    "cell_id": "00002-feb40513-373e-49c6-868e-4b1acbd2b0e1",
    "deepnote_cell_type": "text-cell-h1",
    "tags": []
   },
   "source": [
    "# Mathematical Model"
   ]
  },
  {
   "cell_type": "markdown",
   "metadata": {
    "cell_id": "00003-70cdf2cc-9dd4-4c34-afcf-7234a703ac9a",
    "deepnote_cell_type": "markdown",
    "tags": []
   },
   "source": [
    "### Notations\n",
    "\n",
    "$T$ is the max number of maximum number of semesters (e.g., $T = 6$ means that we only consider 3 years)\n",
    "\n",
    "$C$ is the set of classes (e.g., $C = \\{ \\text{CS 200}, \\text{CS 300}, \\text{CS 524}, \\cdots \\}$)\n",
    "\n",
    "\n",
    "### Decision variables\n",
    "\n",
    "$x[t, c]$ is a Boolean variable to denote whether to take the class $c \\in C$ at semester $t \\in \\{1, \\cdots, T\\}$. \n",
    "\n",
    "If a student takes CS 200 on his/her first semester, then $x[1, \\text{CS 200}] = 1$\n",
    "\n",
    "If a student takes CS 524 on the second Spring semester, then $x[3, \\text{CS 524}]= 1$\n",
    "\n",
    "\n",
    "### Prerequisite constraint\n",
    "\n",
    "To take CS 300, the student need to take CS 200 in the previous semester, we can encode such prerequisite using the following constraint: \n",
    "\n",
    "$$x[t, \\text{CS 300}] \\le \\sum_{t=1}^{T} x[t, \\text{CS 200}] $$\n",
    "\n",
    "\n",
    "CS 524 has the prerequisite similar to \"(CS 200 or 300) and (MATH 340 or 341)\", we can encode it with the constraint:\n",
    "\n",
    "$$x[t, \\text{CS 524}] \\le \\sum_{t=1}^{T} x[t, \\text{CS 200}] + \\sum_{t=1}^{T} x[t, \\text{CS 300}] $$\n",
    "\n",
    "$$x[t, \\text{CS 524}] \\le \\sum_{t=1}^{T} x[t, \\text{CS 340}] + \\sum_{t=1}^{T} x[t, \\text{CS 341}] $$\n",
    "\n",
    "\n",
    "### Graduation requirement\n",
    "\n",
    "In order to meet the graduation requirement, CS 300 must be taken, so we have the constraint:\n",
    "\n",
    "$$\\sum_{t=1}^{T} x[t, \\text{CS 300}] \\ge 1$$\n",
    "    \n",
    "There are other kinds of graduation requirements, such as taking $k$ coureses from a list of $C$, we can encode such requirements using the following constraint:\n",
    "\n",
    "$$\\sum_{t=1}^{T} \\sum_{c \\in C} x[t, c] \\ge k$$\n",
    "    \n",
    "### Max credits\n",
    "\n",
    "For undergraduate, we can take at most 18 credits in a given semester, so we need to ensure that\n",
    "\n",
    "$$\\sum_{c \\in C} x[t, c] \\cdot \\text{credit}(c) \\le 18, \\quad \\text{for all semester } t$$\n",
    "\n",
    "### Objective \n",
    "\n",
    "A naive objective would be to minimize the sum of $x$: \n",
    "\n",
    "$$\\min \\sum_{i=t}^{T} \\sum_{c \\in C} x[t, c]$$\n",
    "\n",
    "But this would lead to many equally good solutions. To avoid this, we add a weight $t$ to the class $c$ if its taken at semester $t$\n",
    "\n",
    "$$\\min \\sum_{i=t}^{T} \\sum_{c \\in C} x[t, c] \\cdot t$$\n",
    "\n",
    "This avoid students procrastinating class to later semesters. "
   ]
  },
  {
   "cell_type": "markdown",
   "metadata": {
    "cell_id": "00002-8db2ce74-16fe-46ff-9151-2e58eff0d4e7",
    "deepnote_cell_type": "text-cell-h1",
    "tags": []
   },
   "source": [
    "# Data Preparation"
   ]
  },
  {
   "cell_type": "markdown",
   "metadata": {
    "cell_id": "00001-7957bf9d-f662-4daf-a4e9-74a1ff5e6f32",
    "deepnote_cell_type": "markdown",
    "tags": []
   },
   "source": [
    "We first load the json file obtained from the UW-Madison [Course Search & Enrollment website](enroll.wisc.edu), and extract all the CS courses."
   ]
  },
  {
   "cell_type": "code",
   "execution_count": 112,
   "metadata": {
    "cell_id": "00001-509e56b6-96bf-4171-93b7-17f6af7b585a",
    "deepnote_cell_type": "code",
    "deepnote_to_be_reexecuted": false,
    "execution_millis": 417,
    "execution_start": 1619543518869,
    "source_hash": "d4be94e3",
    "tags": []
   },
   "outputs": [
    {
     "name": "stdout",
     "output_type": "stream",
     "text": [
      "We have 57 undergraduate courses in total: COMP SCI 200,COMP SCI 220,COMP SCI 240,COMP SCI 252,COMP SCI 270,COMP SCI 298,COMP SCI 300,COMP SCI 304,COMP SCI 310,COMP SCI 319,COMP SCI 320,COMP SCI 352,COMP SCI 354,COMP SCI 368,COMP SCI 369,COMP SCI 400,COMP SCI 402,COMP SCI 407,COMP SCI 412,COMP SCI 425,COMP SCI 435,COMP SCI 475,COMP SCI 502,COMP SCI 506,COMP SCI 513,COMP SCI 514,COMP SCI 520,COMP SCI 524,COMP SCI 525,COMP SCI 532,COMP SCI 533,COMP SCI 534,COMP SCI 536,COMP SCI 537,COMP SCI 538,COMP SCI 539,COMP SCI 540,COMP SCI 542,COMP SCI 552,COMP SCI 558,COMP SCI 559,COMP SCI 564,COMP SCI 567,COMP SCI 570,COMP SCI 576,COMP SCI 577,COMP SCI 579,COMP SCI 611,COMP SCI 612,COMP SCI 638,COMP SCI 639,COMP SCI 640,COMP SCI 642,COMP SCI 679,COMP SCI 681,COMP SCI 682,COMP SCI 699\n"
     ]
    }
   ],
   "source": [
    "using JSON\n",
    "\n",
    "raw_data = JSON.parsefile(\"data/1214-spring-2021.json\")[\"hits\"]\n",
    "\n",
    "cls_data = Dict(\n",
    "    Symbol(c[\"courseDesignation\"]) => \n",
    "    c for c in raw_data \n",
    "    if c[\"subject\"][\"shortDescription\"] == \"COMP SCI\" && parse(Int, c[\"catalogSort\"]) <= 700\n",
    ")\n",
    "\n",
    "cls = keys(cls_data)\n",
    "n_cls = length(cls_data)\n",
    "\n",
    "println(\"We have \", string(n_cls), \" undergraduate courses in total: \", join(sort([String(e) for e in cls]), \",\"))"
   ]
  },
  {
   "cell_type": "code",
   "execution_count": 150,
   "metadata": {},
   "outputs": [
    {
     "data": {
      "text/plain": [
       "\"honors allCrossListedSubjects breadths matched_queries termCode levels subjectAggregate courseId academicGroupCode gradingBasis advisoryPrerequisites ethnicStudies lettersAndScienceCredits approvedForTopics courseDesignationRaw openToFirstYear gradCourseWork catalogPrintFlag sustainability instructorProvidedContent courseRequirements subject repeatable fullCourseDesignationRaw typicallyOffered foreignLanguage enrollmentPrerequisites titleSuggest minimumCredits title lastUpdated workplaceExperience courseDesignation generalEd topics description lastTaught creditRange catalogSort currentlyTaught firstTaught catalogNumber maximumCredits fullCourseDesignation\""
      ]
     },
     "execution_count": 150,
     "metadata": {},
     "output_type": "execute_result"
    }
   ],
   "source": [
    "# show(IOContext(stdout, :limit => false), \"text/plain\", cls_data[Symbol(\"COMP SCI 524\")]);\n",
    "# \n",
    "join(keys(cls_data[Symbol(\"COMP SCI 524\")]), \" \")\n",
    "\n",
    "# cls_data[Symbol(\"COMP SCI 524\")][\"creditRange\"]"
   ]
  },
  {
   "cell_type": "code",
   "execution_count": 149,
   "metadata": {},
   "outputs": [
    {
     "name": "stdout",
     "output_type": "stream",
     "text": [
      "COMP SCI 200: 3\n",
      "COMP SCI 220: 4\n",
      "COMP SCI 240: 3\n",
      "COMP SCI 252: 2\n",
      "COMP SCI 270: 3\n",
      "COMP SCI 298: 1-3\n",
      "COMP SCI 300: 3\n",
      "COMP SCI 304: 0-1\n",
      "COMP SCI 310: 3\n",
      "COMP SCI 319: 3\n",
      "COMP SCI 320: 4\n",
      "COMP SCI 352: 3\n",
      "COMP SCI 354: 3\n",
      "COMP SCI 368: 1\n",
      "COMP SCI 369: 3\n",
      "COMP SCI 400: 3\n",
      "COMP SCI 402: 2\n",
      "COMP SCI 407: 3\n",
      "COMP SCI 412: 3\n",
      "COMP SCI 425: 3\n",
      "COMP SCI 435: 3\n",
      "COMP SCI 475: 3\n",
      "COMP SCI 502: 1\n",
      "COMP SCI 506: 3\n",
      "COMP SCI 513: 3\n",
      "COMP SCI 514: 3\n",
      "COMP SCI 520: 3\n",
      "COMP SCI 524: 3\n",
      "COMP SCI 525: 3\n",
      "COMP SCI 532: 3\n",
      "COMP SCI 533: 3\n",
      "COMP SCI 534: 3\n",
      "COMP SCI 536: 3\n",
      "COMP SCI 537: 4\n",
      "COMP SCI 538: 3\n",
      "COMP SCI 539: 3\n",
      "COMP SCI 540: 3\n",
      "COMP SCI 542: 3\n",
      "COMP SCI 552: 3\n",
      "COMP SCI 558: 3\n",
      "COMP SCI 559: 3\n",
      "COMP SCI 564: 4\n",
      "COMP SCI 567: 3\n",
      "COMP SCI 570: 4\n",
      "COMP SCI 576: 3\n",
      "COMP SCI 577: 4\n",
      "COMP SCI 579: 3\n",
      "COMP SCI 611: 3\n",
      "COMP SCI 612: 3\n",
      "COMP SCI 638: 1-4\n",
      "COMP SCI 639: 3-4\n",
      "COMP SCI 640: 3\n",
      "COMP SCI 642: 3\n",
      "COMP SCI 679: 3\n",
      "COMP SCI 681: 3\n",
      "COMP SCI 682: 3\n",
      "COMP SCI 699: 1-6\n"
     ]
    }
   ],
   "source": [
    "for (k, v) in sort(cls_data)\n",
    "#     println(k, \": \", v[\"enrollmentPrerequisites\"])\n",
    "    println(k, \": \", v[\"creditRange\"])\n",
    "end"
   ]
  },
  {
   "cell_type": "markdown",
   "metadata": {
    "cell_id": "00004-0554b71f-c0c6-4602-a6f0-ffc1c4665bff",
    "deepnote_cell_type": "markdown",
    "tags": []
   },
   "source": [
    "# Constructing the Optimization Problem"
   ]
  },
  {
   "cell_type": "code",
   "execution_count": 160,
   "metadata": {
    "cell_id": "00005-e0c1c4fb-bbd3-40d8-984a-d2e1ca6d14c1",
    "deepnote_cell_type": "code",
    "deepnote_to_be_reexecuted": false,
    "execution_millis": 2251,
    "execution_start": 1618946815490,
    "source_hash": "47fa5ea1",
    "tags": []
   },
   "outputs": [
    {
     "name": "stdout",
     "output_type": "stream",
     "text": [
      "OPTIMAL\n",
      "Take course \"COMP SCI 400\" on semester 1\n",
      "Take course \"COMP SCI 240\" on semester 1\n",
      "Take course \"COMP SCI 252\" on semester 1\n",
      "Take course \"COMP SCI 354\" on semester 1\n",
      "Take course \"COMP SCI 640\" on semester 1\n",
      "Take course \"COMP SCI 407\" on semester 1\n",
      "Take course \"COMP SCI 570\" on semester 2\n",
      "Take course \"COMP SCI 577\" on semester 2\n",
      "Take course \"COMP SCI 300\" on semester 2\n"
     ]
    }
   ],
   "source": [
    "using JuMP, Cbc\n",
    "\n",
    "max_credit = 18\n",
    "n_sem = 4\n",
    "T = 1:n_sem\n",
    "C = cls\n",
    "\n",
    "function credit(c)\n",
    "    return cls_data[c][\"minimumCredits\"]\n",
    "end\n",
    "\n",
    "function cs_lst(arr...)\n",
    "    res = [Symbol(\"COMP SCI \", c) for c in arr]\n",
    "    return [c for c in res if c in C]\n",
    "end\n",
    "\n",
    "C_basic = cs_lst(240, 252, 300, 354, 400)\n",
    "C_theory = cs_lst(577, 520)\n",
    "C_xware = cs_lst(407, 506, 536, 538, 537, 552, 564, 640, 642)\n",
    "C_app = cs_lst(412, 425, 513, 514, 524, 525, 534, 540, 545, 547, 559, 570)\n",
    "C_elec = cs_lst(407, 412, 425, 435, 471, 475, 506, 513, 514, 520, 524, 525, 526, 532, 533, 534, 536, 537, 538, 539, 540, 545, 547, 552, 558, 559, 564, 567, 570, 576, 577, 579, 635, 640, 642, 679, 639)\n",
    "\n",
    "# m = Model(Cbc.Optimizer)\n",
    "m = Model(with_optimizer(Cbc.Optimizer, logLevel=0))\n",
    "\n",
    "@variable(m, x[C, T], Bin)\n",
    "\n",
    "# Take all from basic computer sciences\n",
    "for c in C_basic\n",
    "    @constraint(m, sum(x[c, t] for t in T) >= 1)\n",
    "end\n",
    "\n",
    "# Complete 1 for Theory of computer science\n",
    "@constraint(m, sum(x[c, t] for t in T for c in C_theory) >= 1)\n",
    "\n",
    "# Complete 2 for Software & Hardware\n",
    "@constraint(m, sum(x[c, t] for t in T for c in C_xware) >= 2)\n",
    "\n",
    "# Complete 1 for Applications\n",
    "@constraint(m, sum(x[c, t] for t in T for c in C_app) >= 1)\n",
    "\n",
    "# Complete 2 for Electives\n",
    "@constraint(m, sum(x[c, t] for t in T for c in C_elec) >= 2)\n",
    "\n",
    "# Max credit constraint\n",
    "for t in T\n",
    "    @constraint(m, sum(x[c, t] * credit(c) for c in C) <= max_credit)\n",
    "end\n",
    "    \n",
    "@objective(m, Min, sum(x[c, t] * t for c in C, t in T))\n",
    "\n",
    "\n",
    "optimize!(m)\n",
    "println(termination_status(m))\n",
    "x = value.(x)\n",
    "\n",
    "for t in sems\n",
    "    for c in cls\n",
    "        if x[c, t] > 0\n",
    "            println(\"Take course \\\"\", c, \"\\\" on semester \", t)\n",
    "        end\n",
    "    end\n",
    "end"
   ]
  },
  {
   "cell_type": "code",
   "execution_count": null,
   "metadata": {},
   "outputs": [],
   "source": []
  }
 ],
 "metadata": {
  "deepnote": {},
  "deepnote_execution_queue": [],
  "deepnote_notebook_id": "0ab71297-e41d-4397-88e4-c87a9b9c4413",
  "kernelspec": {
   "display_name": "Julia 1.5.3",
   "language": "julia",
   "name": "julia-1.5"
  },
  "language_info": {
   "file_extension": ".jl",
   "mimetype": "application/julia",
   "name": "julia",
   "version": "1.5.4"
  }
 },
 "nbformat": 4,
 "nbformat_minor": 1
}
