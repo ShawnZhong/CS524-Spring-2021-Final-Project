{
  "cells": [
    {
      "cell_type": "markdown",
      "source": "# Introduction",
      "metadata": {
        "tags": [],
        "cell_id": "00000-096bf7b1-12d1-4784-bd58-900c5ac333fe",
        "deepnote_cell_type": "text-cell-h1"
      }
    },
    {
      "cell_type": "markdown",
      "source": "The requirements for undergraduate CS certificate can be found at https://guide.wisc.edu/undergraduate/letters-science/computer-sciences/computer-sciences-certificate/#requirementstext. ",
      "metadata": {
        "tags": [],
        "cell_id": "00000-7ae4305a-1e8d-4d60-a392-7db1c550ec5c",
        "deepnote_cell_type": "markdown"
      }
    },
    {
      "cell_type": "markdown",
      "source": "# Mathematical Model",
      "metadata": {
        "tags": [],
        "cell_id": "00002-feb40513-373e-49c6-868e-4b1acbd2b0e1",
        "deepnote_cell_type": "text-cell-h1"
      }
    },
    {
      "cell_type": "markdown",
      "source": "Decision variables:\n\n- $x[t, c]$ is a Boolean variable to denote whether to take the class $c$ at semester $t$. \n\n    - If a student takes CS 200 on his/her first semester, then $x[1, \\text{CS 200}] = 1$\n\n    - If a student takes CS 524 on the second Spring semester, then $x[4, \\text{CS 524}]= 1$\n\n\nPrerequisite constraint\n\n- To take CS 300, the student need to take CS 200 in the previous semester, we can encode such prerequisite using the following constraint: \n\n    $$x[t, \\text{CS 300}] \\le \\sum_{i=1}^{t} x[i, \\text{CS 200}] $$\n\n\n- CS 524 has the prerequisite similar to \"(CS 200 or 300) and (MATH 340 or 341)\", we can encode it with the constraint:\n\n    $$x[t, \\text{CS 524}] \\le \\sum_{i=1}^{t} x[i, \\text{CS 200}] + \\sum_{i=1}^{t} x[i, \\text{CS 300}] $$\n\n    $$x[t, \\text{CS 524}] \\le \\sum_{i=1}^{t} x[i, \\text{CS 340}] + \\sum_{i=1}^{t} x[i, \\text{CS 341}] $$\n\n\nGraduation requirement\n\n- We ",
      "metadata": {
        "tags": [],
        "cell_id": "00003-70cdf2cc-9dd4-4c34-afcf-7234a703ac9a",
        "deepnote_cell_type": "markdown"
      }
    },
    {
      "cell_type": "markdown",
      "source": "# Data Preparation",
      "metadata": {
        "tags": [],
        "cell_id": "00002-8db2ce74-16fe-46ff-9151-2e58eff0d4e7",
        "deepnote_cell_type": "text-cell-h1"
      }
    },
    {
      "cell_type": "markdown",
      "source": "We first load the json file obtained from the UW-Madison [Course Search & Enrollment website](enroll.wisc.edu), and extract all the CS courses.",
      "metadata": {
        "tags": [],
        "cell_id": "00001-7957bf9d-f662-4daf-a4e9-74a1ff5e6f32",
        "deepnote_cell_type": "markdown"
      }
    },
    {
      "cell_type": "code",
      "metadata": {
        "tags": [],
        "cell_id": "00001-509e56b6-96bf-4171-93b7-17f6af7b585a",
        "deepnote_to_be_reexecuted": false,
        "source_hash": "d4be94e3",
        "execution_millis": 417,
        "execution_start": 1619543518869,
        "deepnote_cell_type": "code"
      },
      "source": "using JSON\n\ndata = JSON.parsefile(\"/work/data/1214-spring-2021.json\")\ndata = data[\"hits\"]\n\ncs_cls = Dict(\n    Symbol(c[\"courseDesignation\"]) => \n    c for c in data if c[\"subject\"][\"shortDescription\"] == \"COMP SCI\"\n)",
      "execution_count": 10,
      "outputs": [
        {
          "output_type": "execute_result",
          "execution_count": 10,
          "data": {
            "text/plain": "Dict{Symbol,Dict{String,Any}} with 85 entries:\n  Symbol(\"COMP SCI 542\") => Dict{String,Any}(\"honors\"=>nothing,\"allCrossListedS…\n  Symbol(\"COMP SCI 310\") => Dict{String,Any}(\"honors\"=>nothing,\"allCrossListedS…\n  Symbol(\"COMP SCI 435\") => Dict{String,Any}(\"honors\"=>nothing,\"allCrossListedS…\n  Symbol(\"COMP SCI 200\") => Dict{String,Any}(\"honors\"=>nothing,\"allCrossListedS…\n  Symbol(\"COMP SCI 400\") => Dict{String,Any}(\"honors\"=>nothing,\"allCrossListedS…\n  Symbol(\"COMP SCI 425\") => Dict{String,Any}(\"honors\"=>nothing,\"allCrossListedS…\n  Symbol(\"COMP SCI 999\") => Dict{String,Any}(\"honors\"=>nothing,\"allCrossListedS…\n  Symbol(\"COMP SCI 270\") => Dict{String,Any}(\"honors\"=>nothing,\"allCrossListedS…\n  Symbol(\"COMP SCI 612\") => Dict{String,Any}(\"honors\"=>nothing,\"allCrossListedS…\n  Symbol(\"COMP SCI 739\") => Dict{String,Any}(\"honors\"=>nothing,\"allCrossListedS…\n  Symbol(\"COMP SCI 240\") => Dict{String,Any}(\"honors\"=>nothing,\"allCrossListedS…\n  Symbol(\"COMP SCI 900\") => Dict{String,Any}(\"honors\"=>nothing,\"allCrossListedS…\n  Symbol(\"COMP SCI 475\") => Dict{String,Any}(\"honors\"=>nothing,\"allCrossListedS…\n  Symbol(\"COMP SCI 899\") => Dict{String,Any}(\"honors\"=>nothing,\"allCrossListedS…\n  Symbol(\"COMP SCI 567\") => Dict{String,Any}(\"honors\"=>nothing,\"allCrossListedS…\n  Symbol(\"COMP SCI 252\") => Dict{String,Any}(\"honors\"=>nothing,\"allCrossListedS…\n  Symbol(\"COMP SCI 537\") => Dict{String,Any}(\"honors\"=>nothing,\"allCrossListedS…\n  Symbol(\"COMP SCI 570\") => Dict{String,Any}(\"honors\"=>nothing,\"allCrossListedS…\n  Symbol(\"COMP SCI 638\") => Dict{String,Any}(\"honors\"=>nothing,\"allCrossListedS…\n  Symbol(\"COMP SCI 682\") => Dict{String,Any}(\"honors\"=>\"HONORS_ONLY\",\"allCrossL…\n  Symbol(\"COMP SCI 990\") => Dict{String,Any}(\"honors\"=>nothing,\"allCrossListedS…\n  Symbol(\"COMP SCI 532\") => Dict{String,Any}(\"honors\"=>nothing,\"allCrossListedS…\n  Symbol(\"COMP SCI 220\") => Dict{String,Any}(\"honors\"=>nothing,\"allCrossListedS…\n  Symbol(\"COMP SCI 298\") => Dict{String,Any}(\"honors\"=>nothing,\"allCrossListedS…\n  Symbol(\"COMP SCI 579\") => Dict{String,Any}(\"honors\"=>nothing,\"allCrossListedS…\n  ⋮                      => ⋮"
          },
          "metadata": {}
        }
      ]
    },
    {
      "cell_type": "markdown",
      "source": "For each class, the following information are available to us. We'll use `breadths`, `maximumCredits`, `minimumCredits`, `typicallyOffered`, and `levels` to construct our optimization problem. ",
      "metadata": {
        "tags": [],
        "cell_id": "00004-0e21413f-ac8f-4592-ab0e-1548c981d235",
        "deepnote_cell_type": "markdown"
      }
    },
    {
      "cell_type": "code",
      "metadata": {
        "tags": [],
        "cell_id": "00006-49d58087-be80-4280-9f6c-ccb321747145",
        "deepnote_to_be_reexecuted": false,
        "source_hash": "78997fe2",
        "execution_millis": 43,
        "execution_start": 1619543531283,
        "deepnote_cell_type": "code"
      },
      "source": "show(IOContext(stdout, :limit => false), \"text/plain\", cs_cls[Symbol(\"COMP SCI 524\")])",
      "execution_count": 11,
      "outputs": [
        {
          "name": "stdout",
          "text": "Dict{String,Any} with 44 entries:\n  \"honors\" => nothing\n  \"allCrossListedSubjects\" => Any[Dict{String,Any}(\"departmentURI\"=>\"http://www.cs.wisc.edu/\",\"footnotes\"=>Any[\"Courses taught and managed by the Computer Sciences department often have enrollment restrictions that give students in UW-Madison Computer Sciences programs priority access during initial enrollment periods.\\n\\nEvening exams are likely for most of our undergraduate courses.\"],\"formalDescription\"=>\"COMPUTER SCIENCES\",\"undergraduateCatalogURI\"=>\"http://guide.wisc.edu/undergraduate/letters-science/computer-sciences/\",\"termCode\"=>\"1214\",\"departmentOwnerAcademicOrgCode\"=>\"L0780\",\"description\"=>\"COMPUTER SCIENCES\",\"graduateCatalogURI\"=>\"http://guide.wisc.edu/graduate/computer-sciences/\",\"uddsFundingSource\"=>\"A4820\",\"shortDescription\"=>\"COMP SCI\",\"subjectCode\"=>\"266\",\"schoolCollege\"=>Dict{String,Any}(\"schoolCollegeURI\"=>\"http://www.ls.wisc.edu/\",\"shortDescription\"=>\"Letters and Science\",\"formalDescription\"=>\"Letters and Science, College of\",\"academicOrgCode\"=>\"L\",\"uddsCode\"=>nothing,\"academicGroupCode\"=>\"L&S\")), Dict{String,Any}(\"departmentURI\"=>\"http://www.engr.wisc.edu/department/electrical-computer-engineering/\",\"footnotes\"=>Any[\"Due to capacity limits the department cannot guarantee enrollment in any ECE courses even for ECE majors. When necessary, enrollment priority for students registering on schedule will be given to: 1) EE & CMPE majors, ECE graduate students & AMEP program students; 2) students admitted to another engineering major or PhD minor.  Evening exams may be scheduled for all courses.\\n\\nFor enrollment questions, please email: ece-enrollment@engr.wisc.edu.\"],\"formalDescription\"=>\"ELECTRICAL AND COMPUTER ENGINEERING\",\"undergraduateCatalogURI\"=>\"http://guide.wisc.edu/undergraduate/engineering/electrical-computer-engineering/\",\"termCode\"=>\"1214\",\"departmentOwnerAcademicOrgCode\"=>\"E0480\",\"description\"=>\"ELECTRICAL AND COMPUTER ENGR\",\"graduateCatalogURI\"=>\"http://guide.wisc.edu/graduate/electrical-computer-engineering/\",\"uddsFundingSource\"=>\"A1925\",\"shortDescription\"=>\"E C E\",\"subjectCode\"=>\"320\",\"schoolCollege\"=>Dict{String,Any}(\"schoolCollegeURI\"=>\"http://www.engr.wisc.edu/\",\"shortDescription\"=>\"Engineering\",\"formalDescription\"=>\"Engineering, College of\",\"academicOrgCode\"=>\"E\",\"uddsCode\"=>nothing,\"academicGroupCode\"=>\"EGR\")), Dict{String,Any}(\"departmentURI\"=>\"http://www.engr.wisc.edu/department/industrial-systems-engineering/\",\"footnotes\"=>Any[\"Jeff Linderoth , Chair, 3270 Mech Engr, (608) 262-9660.\\n\\nEnrollment in ISyE classes:  \\nPlease read the course notes for enrollment details and restrictions. Most ISyE classes are restricted to ISyE undergrad or grad students until January 11th at noon.  \\n\\nNon-ISyE students: After this date, for authorization or enrollment problems contact enrollment@ie.wisc.edu\\n\\nISyE students: for pre-requisites or enrollment problems contact enrollment@ie.wisc.edu\\n\\nOnline demo on how to join the waitlist:   http://registrar.wisc.edu/isis_helpdocs/enrollment_demos/V90WaitList/V90WaitList.htm\"],\"formalDescription\"=>\"INDUSTRIAL AND SYSTEMS ENGINEERING\",\"undergraduateCatalogURI\"=>\"http://guide.wisc.edu/undergraduate/engineering/industrial-systems-engineering/\",\"termCode\"=>\"1214\",\"departmentOwnerAcademicOrgCode\"=>\"E0525\",\"description\"=>\"INDUSTRIAL & SYSTEMS ENGR\",\"graduateCatalogURI\"=>\"http://guide.wisc.edu/graduate/industrial-systems-engineering/\",\"uddsFundingSource\"=>\"A1950\",\"shortDescription\"=>\"I SY E\",\"subjectCode\"=>\"490\",\"schoolCollege\"=>Dict{String,Any}(\"schoolCollegeURI\"=>\"http://www.engr.wisc.edu/\",\"shortDescription\"=>\"Engineering\",\"formalDescription\"=>\"Engineering, College of\",\"academicOrgCode\"=>\"E\",\"uddsCode\"=>nothing,\"academicGroupCode\"=>\"EGR\"))]\n  \"breadths\" => Any[Dict{String,Any}(\"code\"=>\"N\",\"description\"=>\"Natural Science\")]\n  \"matched_queries\" => nothing\n  \"termCode\" => \"1214\"\n  \"levels\" => Any[Dict{String,Any}(\"code\"=>\"I\",\"description\"=>\"Intermediate\")]\n  \"subjectAggregate\" => \"COMPUTER SCIENCES 266\"\n  \"courseId\" => \"024408\"\n  \"academicGroupCode\" => nothing\n  \"gradingBasis\" => Dict{String,Any}(\"code\"=>\"OPT\",\"description\"=>\"Student Option\")\n  \"advisoryPrerequisites\" => nothing\n  \"ethnicStudies\" => nothing\n  \"lettersAndScienceCredits\" => Dict{String,Any}(\"code\"=>\"C\",\"description\"=>\"Counts as LAS credit (L&S)\")\n  \"approvedForTopics\" => false\n  \"courseDesignationRaw\" => \"COMP SCI 524\"\n  \"openToFirstYear\" => false\n  \"gradCourseWork\" => nothing\n  \"catalogPrintFlag\" => true\n  \"sustainability\" => nothing\n  \"instructorProvidedContent\" => nothing\n  \"courseRequirements\" => Dict{String,Any}(\"015976=\"=>Any[50998, 33492])\n  \"subject\" => Dict{String,Any}(\"departmentURI\"=>\"http://www.cs.wisc.edu/\",\"footnotes\"=>Any[\"Courses taught and managed by the Computer Sciences department often have enrollment restrictions that give students in UW-Madison Computer Sciences programs priority access during initial enrollment periods.\\n\\nEvening exams are likely for most of our undergraduate courses.\"],\"formalDescription\"=>\"COMPUTER SCIENCES\",\"undergraduateCatalogURI\"=>\"http://guide.wisc.edu/undergraduate/letters-science/computer-sciences/\",\"termCode\"=>\"1214\",\"departmentOwnerAcademicOrgCode\"=>\"L0780\",\"description\"=>\"COMPUTER SCIENCES\",\"graduateCatalogURI\"=>\"http://guide.wisc.edu/graduate/computer-sciences/\",\"uddsFundingSource\"=>\"A4820\",\"shortDescription\"=>\"COMP SCI\",\"subjectCode\"=>\"266\",\"schoolCollege\"=>Dict{String,Any}(\"schoolCollegeURI\"=>\"http://www.ls.wisc.edu/\",\"shortDescription\"=>\"Letters and Science\",\"formalDescription\"=>\"Letters and Science, College of\",\"academicOrgCode\"=>\"L\",\"uddsCode\"=>nothing,\"academicGroupCode\"=>\"L&S\"))\n  \"repeatable\" => \"N\"\n  \"fullCourseDesignationRaw\" => \"COMPUTER SCIENCES 524\"\n  \"typicallyOffered\" => \"Fall, Spring\"\n  \"foreignLanguage\" => nothing\n  \"enrollmentPrerequisites\" => \"(COMP SCI 200, 220, 300, 301, 302, or 310) and (MATH 320, 340, 341, or 375) or graduate/professional standing\"\n  \"titleSuggest\" => Dict{String,Any}(\"payload\"=>Dict{String,Any}(\"courseId\"=>\"024408\"),\"input\"=>Any[\"Introduction to Optimization\"])\n  \"minimumCredits\" => 3\n  \"title\" => \"Introduction to Optimization\"\n  \"lastUpdated\" => 1618903136753\n  \"workplaceExperience\" => nothing\n  \"courseDesignation\" => \"COMP SCI 524\"\n  \"generalEd\" => nothing\n  \"topics\" => Any[]\n  \"description\" => \"Introduction to mathematical optimization from a modeling and solution perspective. Formulation of applications as discrete and continuous optimization problems and equilibrium models. Survey and appropriate usage of basic algorithms, data and software tools, including modeling languages and subroutine libraries. Enroll Info: None\"\n  \"lastTaught\" => \"1214\"\n  \"creditRange\" => \"3\"\n  \"catalogSort\" => \"00524\"\n  \"currentlyTaught\" => true\n  \"firstTaught\" => \"1164\"\n  \"catalogNumber\" => \"524\"\n  \"maximumCredits\" => 3\n  \"fullCourseDesignation\" => \"COMPUTER SCIENCES 524\"",
          "output_type": "stream"
        }
      ]
    },
    {
      "cell_type": "code",
      "metadata": {
        "tags": [],
        "cell_id": "00004-cc7e1d11-8f92-45b4-905e-4f7a769ce1a1",
        "deepnote_to_be_reexecuted": false,
        "source_hash": "549599e8",
        "execution_millis": 205,
        "execution_start": 1618946660088,
        "deepnote_cell_type": "code"
      },
      "source": "n = length(cs_cls)",
      "execution_count": null,
      "outputs": [
        {
          "output_type": "execute_result",
          "execution_count": 4,
          "data": {
            "text/plain": "85"
          },
          "metadata": {}
        }
      ]
    },
    {
      "cell_type": "code",
      "metadata": {
        "tags": [],
        "cell_id": "00008-0da7fbcf-1c93-4e24-97ed-7b38ded9a6c7",
        "deepnote_to_be_reexecuted": false,
        "source_hash": "3cf2dc46",
        "execution_start": 1619543537628,
        "execution_millis": 1233,
        "deepnote_cell_type": "code"
      },
      "source": "\nprint(keys(cs_cls))",
      "execution_count": 12,
      "outputs": [
        {
          "name": "stdout",
          "text": "[Symbol(\"COMP SCI 542\"), Symbol(\"COMP SCI 310\"), Symbol(\"COMP SCI 435\"), Symbol(\"COMP SCI 200\"), Symbol(\"COMP SCI 400\"), Symbol(\"COMP SCI 425\"), Symbol(\"COMP SCI 999\"), Symbol(\"COMP SCI 270\"), Symbol(\"COMP SCI 612\"), Symbol(\"COMP SCI 739\"), Symbol(\"COMP SCI 240\"), Symbol(\"COMP SCI 900\"), Symbol(\"COMP SCI 475\"), Symbol(\"COMP SCI 899\"), Symbol(\"COMP SCI 567\"), Symbol(\"COMP SCI 252\"), Symbol(\"COMP SCI 537\"), Symbol(\"COMP SCI 570\"), Symbol(\"COMP SCI 638\"), Symbol(\"COMP SCI 682\"), Symbol(\"COMP SCI 990\"), Symbol(\"COMP SCI 532\"), Symbol(\"COMP SCI 220\"), Symbol(\"COMP SCI 298\"), Symbol(\"COMP SCI 579\"), Symbol(\"COMP SCI 369\"), Symbol(\"COMP SCI 525\"), Symbol(\"COMP SCI 540\"), Symbol(\"COMP SCI 679\"), Symbol(\"COMP SCI 704\"), Symbol(\"COMP SCI 790\"), Symbol(\"COMP SCI 352\"), Symbol(\"COMP SCI 354\"), Symbol(\"COMP SCI 710\"), Symbol(\"COMP SCI 368\"), Symbol(\"COMP SCI 681\"), Symbol(\"COMP SCI 538\"), Symbol(\"COMP SCI 552\"), Symbol(\"COMP SCI 402\"), Symbol(\"COMP SCI 320\"), Symbol(\"COMP SCI 534\"), Symbol(\"COMP SCI 640\"), Symbol(\"COMP SCI 533\"), Symbol(\"COMP SCI 723\"), Symbol(\"COMP SCI 319\"), Symbol(\"COMP SCI 728\"), Symbol(\"COMP SCI 776\"), Symbol(\"COMP SCI 726\"), Symbol(\"COMP SCI 506\"), Symbol(\"COMP SCI 766\"), Symbol(\"COMP SCI 880\"), Symbol(\"COMP SCI 758\"), Symbol(\"COMP SCI 577\"), Symbol(\"COMP SCI 558\"), Symbol(\"COMP SCI 757\"), Symbol(\"COMP SCI 759\"), Symbol(\"COMP SCI 760\"), Symbol(\"COMP SCI 770\"), Symbol(\"COMP SCI 915\"), Symbol(\"COMP SCI 752\"), Symbol(\"COMP SCI 539\"), Symbol(\"COMP SCI 536\"), Symbol(\"COMP SCI 784\"), Symbol(\"COMP SCI 513\"), Symbol(\"COMP SCI 611\"), Symbol(\"COMP SCI 639\"), Symbol(\"COMP SCI 839\"), Symbol(\"COMP SCI 702\"), Symbol(\"COMP SCI 576\"), Symbol(\"COMP SCI 520\"), Symbol(\"COMP SCI 559\"), Symbol(\"COMP SCI 764\"), Symbol(\"COMP SCI 514\"), Symbol(\"COMP SCI 412\"), Symbol(\"COMP SCI 699\"), Symbol(\"COMP SCI 715\"), Symbol(\"COMP SCI 799\"), Symbol(\"COMP SCI 502\"), Symbol(\"COMP SCI 407\"), Symbol(\"COMP SCI 761\"), Symbol(\"COMP SCI 300\"), Symbol(\"COMP SCI 304\"), Symbol(\"COMP SCI 642\"), Symbol(\"COMP SCI 524\"), Symbol(\"COMP SCI 564\")]",
          "output_type": "stream"
        }
      ]
    },
    {
      "cell_type": "markdown",
      "source": "# Constructing the Optimization Problem",
      "metadata": {
        "tags": [],
        "cell_id": "00004-0554b71f-c0c6-4602-a6f0-ffc1c4665bff",
        "deepnote_cell_type": "markdown"
      }
    },
    {
      "cell_type": "code",
      "metadata": {
        "tags": [],
        "cell_id": "00005-e0c1c4fb-bbd3-40d8-984a-d2e1ca6d14c1",
        "deepnote_to_be_reexecuted": false,
        "source_hash": "47fa5ea1",
        "execution_millis": 2251,
        "execution_start": 1618946815490,
        "deepnote_cell_type": "code"
      },
      "source": "using JuMP, Cbc\n\nm = Model(Cbc.Optimizer)\nn_cls = 10\nn_sem = 4\n\n@variable(m, cls[1:n_cls, 1:n_sem], Bin)\n\n@objective(m, Max, sum(cls[i] for i in 1:n))\n\n\noptimize!(m)\nprintln(termination_status(m))\nvalue.(cls)",
      "execution_count": null,
      "outputs": [
        {
          "name": "stdout",
          "text": "OPTIMAL\nWelcome to the CBC MILP Solver \nVersion: 2.10.5 \nBuild Date: Jan  1 1970 \n\ncommand line - Cbc_C_Interface -solve -quit (default strategy 1)\nContinuous objective value is 10 - 0.00 seconds\nCgl0004I processed model has 0 rows, 0 columns (0 integer (0 of which binary)) and 0 elements\nCbc3007W No integer variables - nothing to do\nCuts at root node changed objective from -10 to -1.79769e+308\nProbing was tried 0 times and created 0 cuts of which 0 were active after adding rounds of cuts (0.000 seconds)\nGomory was tried 0 times and created 0 cuts of which 0 were active after adding rounds of cuts (0.000 seconds)\nKnapsack was tried 0 times and created 0 cuts of which 0 were active after adding rounds of cuts (0.000 seconds)\nClique was tried 0 times and created 0 cuts of which 0 were active after adding rounds of cuts (0.000 seconds)\nMixedIntegerRounding2 was tried 0 times and created 0 cuts of which 0 were active after adding rounds of cuts (0.000 seconds)\nFlowCover was tried 0 times and created 0 cuts of which 0 were active after adding rounds of cuts (0.000 seconds)\nTwoMirCuts was tried 0 times and created 0 cuts of which 0 were active after adding rounds of cuts (0.000 seconds)\nZeroHalf was tried 0 times and created 0 cuts of which 0 were active after adding rounds of cuts (0.000 seconds)\n\nResult - Optimal solution found\n\nObjective value:                10.00000000\nEnumerated nodes:               0\nTotal iterations:               0\nTime (CPU seconds):             0.00\nTime (Wallclock seconds):       0.00\n\nTotal time (CPU seconds):       0.00   (Wallclock seconds):       0.00\n\n",
          "output_type": "stream"
        },
        {
          "output_type": "execute_result",
          "execution_count": 7,
          "data": {
            "text/plain": "10-element Array{Float64,1}:\n 1.0\n 1.0\n 1.0\n 1.0\n 1.0\n 1.0\n 1.0\n 1.0\n 1.0\n 1.0"
          },
          "metadata": {}
        }
      ]
    },
    {
      "cell_type": "markdown",
      "source": "",
      "metadata": {
        "tags": [],
        "cell_id": "00009-b3ab3d60-f9f0-4db4-b509-1997e1862eef",
        "deepnote_cell_type": "markdown"
      }
    },
    {
      "cell_type": "code",
      "metadata": {
        "tags": [],
        "cell_id": "00009-5cce5a94-962c-48b0-b27f-6647ff62bc6b",
        "deepnote_cell_type": "code"
      },
      "source": "",
      "execution_count": null,
      "outputs": []
    },
    {
      "cell_type": "markdown",
      "source": "<a style='text-decoration:none;line-height:16px;display:flex;color:#5B5B62;padding:10px;justify-content:end;' href='https://deepnote.com?utm_source=created-in-deepnote-cell&projectId=92cfa9df-30ab-40f7-b5d5-752a2fe43860' target=\"_blank\">\n<img alt='Created in deepnote.com' style='display:inline;max-height:16px;margin:0px;margin-right:7.5px;' src='data:image/svg+xml;base64,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' > </img>\nCreated in <span style='font-weight:600;margin-left:4px;'>Deepnote</span></a>",
      "metadata": {
        "tags": [],
        "created_in_deepnote_cell": true,
        "deepnote_cell_type": "markdown"
      }
    }
  ],
  "nbformat": 4,
  "nbformat_minor": 1,
  "metadata": {
    "kernelspec": {
      "display_name": "Julia 1.6.0",
      "language": "julia",
      "name": "julia-1.6"
    },
    "language_info": {
      "file_extension": ".jl",
      "mimetype": "application/julia",
      "name": "julia",
      "version": "1.6.0"
    },
    "deepnote_notebook_id": "0ab71297-e41d-4397-88e4-c87a9b9c4413",
    "deepnote": {},
    "deepnote_execution_queue": []
  }
}