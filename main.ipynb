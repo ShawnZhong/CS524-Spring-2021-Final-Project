{
 "cells": [
  {
   "cell_type": "markdown",
   "metadata": {
    "cell_id": "00000-096bf7b1-12d1-4784-bd58-900c5ac333fe",
    "deepnote_cell_type": "text-cell-h1",
    "tags": []
   },
   "source": [
    "# Introduction"
   ]
  },
  {
   "cell_type": "markdown",
   "metadata": {
    "cell_id": "00000-7ae4305a-1e8d-4d60-a392-7db1c550ec5c",
    "deepnote_cell_type": "markdown",
    "tags": []
   },
   "source": [
    "The requirements for undergraduate CS certificate can be found at https://guide.wisc.edu/undergraduate/letters-science/computer-sciences/computer-sciences-ba/#requirementstext. "
   ]
  },
  {
   "cell_type": "markdown",
   "metadata": {
    "cell_id": "00002-feb40513-373e-49c6-868e-4b1acbd2b0e1",
    "deepnote_cell_type": "text-cell-h1",
    "tags": []
   },
   "source": [
    "# Mathematical Model"
   ]
  },
  {
   "cell_type": "markdown",
   "metadata": {
    "cell_id": "00003-70cdf2cc-9dd4-4c34-afcf-7234a703ac9a",
    "deepnote_cell_type": "markdown",
    "tags": []
   },
   "source": [
    "### Notations\n",
    "\n",
    "$T$ is the max number of maximum number of semesters (e.g., $T = 8$ means the entire 4-year college).\n",
    "\n",
    "$ t\\in \\{1, \\cdots, T\\}$ stands for a specific semester (e.g., $t = 2$ means the second semester or the Spring semester in the first year).\n",
    "\n",
    "$C$ is the set of classes (e.g., $C = \\{ \\text{CS 200}, \\text{CS 300}, \\text{CS 524}, \\cdots \\}$).\n",
    "\n",
    "$c \\in C$ stands for a specific class (e.g., $c = \\text{CS 524}$)\n",
    "\n",
    "### Decision variables\n",
    "\n",
    "$x[t, c]$ is a Boolean variable to denote whether to take the class $c \\in C$ at semester $t \\in \\{1, \\cdots, T\\}$. \n",
    "\n",
    "For example, if a student takes CS 524 on the thrid semester, then $x[3, \\text{CS 524}]= 1$\n",
    "\n",
    "\n",
    "### Prerequisite constraint\n",
    "\n",
    "To take the class $c$, students may need to take $c'$ in the previous semesters, we can encode such prerequisite using the following constraint: \n",
    "\n",
    "$$x[t, c] \\le \\sum_{i=1}^{t - 1} x[i, c'] $$\n",
    "\n",
    "\n",
    "For example, CS 524 has the prerequisite similar to \"(CS 200 or 300) and (MATH 340 or 341)\", we can encode it with the constraint:\n",
    "\n",
    "$$x[t, \\text{CS 524}] \\le \\sum_{i=1}^{t - 1} x[i, \\text{CS 200}] + \\sum_{i=1}^{t - 1} x[i, \\text{CS 300}] $$\n",
    "\n",
    "$$x[t, \\text{CS 524}] \\le \\sum_{i=1}^{t - 1} x[i, \\text{CS 340}] + \\sum_{i=1}^{t - 1} x[i, \\text{CS 341}] $$\n",
    "\n",
    "\n",
    "### Graduation requirement\n",
    "\n",
    "In order to meet the graduation requirement, some class $c$ must be taken, so we have the constraint:\n",
    "\n",
    "$$\\sum_{t=1}^{T} x[t, c] \\ge 1$$\n",
    "    \n",
    "There are other kinds of graduation requirements, such as taking $k$ coureses from a list of $C$, we can encode such requirements using the following constraint:\n",
    "\n",
    "$$\\sum_{t=1}^{T} \\sum_{c \\in C} x[t, c] \\ge k$$\n",
    "    \n",
    "### Max credits\n",
    "\n",
    "For undergraduate, the number of credits taken in a given semester cannot exceeds a certain number, so we need to ensure that\n",
    "\n",
    "$$\\sum_{c \\in C} x[t, c] \\cdot \\text{credit}(c) \\le \\text{max_credit}, \\quad \\text{for all semester } t$$\n",
    "\n",
    "### No retaking\n",
    "\n",
    "Generally, we don't want to take the same class multiple times, so we have the following constraint to ensure that a class is taken at most once.\n",
    "\n",
    "$$\\sum_{t=1}^{T} x[t, c] \\le 1, \\quad \\text{for all class } c$$\n",
    "\n",
    "### Objective \n",
    "\n",
    "A naive objective would be to minimize the sum of $x$: \n",
    "\n",
    "$$\\min \\sum_{i=t}^{T} \\sum_{c \\in C} x[t, c]$$\n",
    "\n",
    "But this would lead to many equally good solutions. To avoid this, we add a weight $t$ to the class $c$ if its taken at semester $t$\n",
    "\n",
    "$$\\min \\sum_{i=t}^{T} \\sum_{c \\in C} x[t, c] \\cdot t$$\n",
    "\n",
    "This avoid students procrastinating class to later semesters. "
   ]
  },
  {
   "cell_type": "markdown",
   "metadata": {
    "cell_id": "00002-8db2ce74-16fe-46ff-9151-2e58eff0d4e7",
    "deepnote_cell_type": "text-cell-h1",
    "tags": []
   },
   "source": [
    "# Data Preparation"
   ]
  },
  {
   "cell_type": "markdown",
   "metadata": {
    "cell_id": "00001-7957bf9d-f662-4daf-a4e9-74a1ff5e6f32",
    "deepnote_cell_type": "markdown",
    "tags": []
   },
   "source": [
    "We first load the json file obtained from the UW-Madison [Course Search & Enrollment website](enroll.wisc.edu), and extract all the CS courses."
   ]
  },
  {
   "cell_type": "code",
   "execution_count": 100,
   "metadata": {
    "cell_id": "00001-509e56b6-96bf-4171-93b7-17f6af7b585a",
    "deepnote_cell_type": "code",
    "deepnote_to_be_reexecuted": false,
    "execution_millis": 804,
    "execution_start": 1619594027222,
    "scrolled": true,
    "source_hash": "4191e084",
    "tags": []
   },
   "outputs": [
    {
     "name": "stdout",
     "output_type": "stream",
     "text": [
      "We have 116 undergraduate courses in total: B M I/COMP SCI 567, B M I/COMP SCI 576, COMP SCI 200, COMP SCI 220, COMP SCI 270, COMP SCI 298, COMP SCI 300, COMP SCI 304, COMP SCI 310, COMP SCI 319, COMP SCI 320, COMP SCI 368, COMP SCI 368, COMP SCI 368, COMP SCI 369, COMP SCI 400, COMP SCI 402, COMP SCI 407, COMP SCI 412, COMP SCI 520, COMP SCI 534, COMP SCI 536, COMP SCI 537, COMP SCI 538, COMP SCI 540, COMP SCI 542, COMP SCI 559, COMP SCI 564, COMP SCI 570, COMP SCI 577, COMP SCI 638, COMP SCI 638, COMP SCI 638, COMP SCI 638, COMP SCI 639, COMP SCI 639, COMP SCI 639, COMP SCI 640, COMP SCI 642, COMP SCI 679, COMP SCI 681, COMP SCI 682, COMP SCI 699, COMP SCI/CURRIC 502, COMP SCI/DS 579, COMP SCI/E C E 252, COMP SCI/E C E 352, COMP SCI/E C E 354, COMP SCI/E C E 506, COMP SCI/E C E 533, COMP SCI/E C E 552, COMP SCI/E C E/I SY E 524, COMP SCI/E C E/M E 532, COMP SCI/E C E/M E 539, COMP SCI/E C E/MATH 435, COMP SCI/I SY E/M E 558, COMP SCI/I SY E/MATH 425, COMP SCI/I SY E/MATH/STAT 525, COMP SCI/L I S 611, COMP SCI/L I S 612, COMP SCI/MATH 240, COMP SCI/MATH 513, COMP SCI/MATH 514, COMP SCI/MATH/STAT 475, CURRIC/MATH 471, HIST SCI/MATH 473, MATH 112, MATH 113, MATH 114, MATH 130, MATH 131, MATH 132, MATH 135, MATH 141, MATH 207, MATH 211, MATH 213, MATH 217, MATH 221, MATH 222, MATH 228, MATH 234, MATH 298, MATH 319, MATH 320, MATH 321, MATH 322, MATH 340, MATH 341, MATH 376, MATH 407, MATH 421, MATH 441, MATH 443, MATH 461, MATH 519, MATH 521, MATH 522, MATH 531, MATH 540, MATH 541, MATH 542, MATH 551, MATH 552, MATH 561, MATH 567, MATH 607, MATH 619, MATH 629, MATH 698, MATH 699, MATH 96, MATH/STAT 309, MATH/STAT 310, MATH/STAT 431, OTM/I SY E/MATH/STAT 632\n"
     ]
    }
   ],
   "source": [
    "using JSON\n",
    "\n",
    "raw_data = JSON.parsefile(\"data/1214-spring-2021.json\")[\"hits\"]\n",
    "\n",
    "cls_data = Dict(\n",
    "    Symbol(c[\"courseId\"]) => \n",
    "    c for c in raw_data \n",
    "    if c[\"subject\"][\"shortDescription\"] in [\"COMP SCI\", \"MATH\"] && parse(Int, c[\"catalogSort\"]) <= 700\n",
    ")\n",
    "\n",
    "cls_to_id_dict = Dict(\n",
    "    c[\"courseDesignation\"] => Symbol(c[\"courseId\"])\n",
    "    for c in raw_data\n",
    ")\n",
    "\n",
    "function get_math_cls_id(number)\n",
    "    return get(cls_to_id_dict, \"MATH \" * string(number), Symbol())\n",
    "end\n",
    "\n",
    "function get_cs_cls_id(number)\n",
    "    return get(cls_to_id_dict, \"COMP SCI \" * string(number), Symbol())\n",
    "end\n",
    "\n",
    "function get_cls_name(id)\n",
    "    cls = cls_data[id]\n",
    "    subjects = [e[\"shortDescription\"] for e in cls[\"allCrossListedSubjects\"]]\n",
    "    if length(subjects) == 0\n",
    "        return cls[\"courseDesignation\"]\n",
    "    else\n",
    "        return join(subjects, \"/\") * \" \" * cls[\"catalogNumber\"]\n",
    "    end\n",
    "end\n",
    "\n",
    "function get_cls_full_name(id)\n",
    "    cls = cls_data[id]\n",
    "    return get_cls_name(id) * \": \" * cls[\"title\"]\n",
    "end\n",
    "\n",
    "cs_cls_str = join(sort([get_cls_name(id) for id in keys(cls_data)]), \", \")\n",
    "println(\"We have \", length(cls_data), \" undergraduate courses in total: \", cs_cls_str)"
   ]
  },
  {
   "cell_type": "markdown",
   "metadata": {},
   "source": [
    "For each class, we gathered the following information: "
   ]
  },
  {
   "cell_type": "code",
   "execution_count": 109,
   "metadata": {
    "cell_id": "00007-9eb7cda1-7cfa-4c22-8391-c19ef3a1361d",
    "deepnote_cell_type": "code",
    "deepnote_to_be_reexecuted": false,
    "execution_millis": 743,
    "execution_start": 1619559878023,
    "source_hash": "fea6d0a6"
   },
   "outputs": [
    {
     "data": {
      "text/plain": [
       "\"honors, allCrossListedSubjects, breadths, matched_queries, termCode, levels, subjectAggregate, courseId, academicGroupCode, gradingBasis, advisoryPrerequisites, ethnicStudies, lettersAndScienceCredits, approvedForTopics, courseDesignationRaw, openToFirstYear, gradCourseWork, catalogPrintFlag, sustainability, instructorProvidedContent, courseRequirements, subject, repeatable, fullCourseDesignationRaw, typicallyOffered, foreignLanguage, enrollmentPrerequisites, titleSuggest, minimumCredits, title, lastUpdated, workplaceExperience, courseDesignation, generalEd, topics, description, lastTaught, creditRange, catalogSort, currentlyTaught, firstTaught, catalogNumber, maximumCredits, fullCourseDesignation\""
      ]
     },
     "execution_count": 109,
     "metadata": {},
     "output_type": "execute_result"
    }
   ],
   "source": [
    "cs524_data = cls_data[get_cs_cls_id(524)]\n",
    "join(keys(cs524_data), \", \")"
   ]
  },
  {
   "cell_type": "markdown",
   "metadata": {
    "cell_id": "00004-0554b71f-c0c6-4602-a6f0-ffc1c4665bff",
    "deepnote_cell_type": "markdown",
    "tags": []
   },
   "source": [
    "# Solving the Optimization Problem"
   ]
  },
  {
   "cell_type": "code",
   "execution_count": 101,
   "metadata": {
    "cell_id": "00005-e0c1c4fb-bbd3-40d8-984a-d2e1ca6d14c1",
    "deepnote_cell_type": "code",
    "deepnote_to_be_reexecuted": false,
    "execution_millis": 504,
    "execution_start": 1619560185897,
    "source_hash": "1766d4fc",
    "tags": []
   },
   "outputs": [
    {
     "name": "stdout",
     "output_type": "stream",
     "text": [
      "OPTIMAL\n",
      "Semester 1: take \"COMP SCI 200: Programming I\"\n",
      "Semester 1: take \"COMP SCI/MATH 240: Introduction to Discrete Mathematics\"\n",
      "Semester 2: take \"COMP SCI/E C E 252: Introduction to Computer Engineering\"\n",
      "Semester 2: take \"COMP SCI 300: Programming II\"\n",
      "Semester 3: take \"COMP SCI 400: Programming III\"\n",
      "Semester 3: take \"COMP SCI/MATH 513: Numerical Linear Algebra\"\n",
      "Semester 4: take \"COMP SCI/E C E 354: Machine Organization and Programming\"\n",
      "Semester 4: take \"COMP SCI 520: Introduction to Theory of Computing\"\n",
      "Semester 5: take \"COMP SCI 536: Introduction to Programming Languages and Compilers\"\n",
      "Semester 5: take \"COMP SCI 407: Foundations of Mobile Systems and Applications\"\n"
     ]
    }
   ],
   "source": [
    "using JuMP, Cbc\n",
    "\n",
    "max_credit = 6\n",
    "n_sem = 6\n",
    "T = 1:n_sem\n",
    "C = keys(cls_data)\n",
    "\n",
    "function credit(c)\n",
    "    return cls_data[c][\"minimumCredits\"]\n",
    "end\n",
    "\n",
    "function cs_lst(arr...)\n",
    "    res = [get_cs_cls_id(c) for c in arr]\n",
    "    return [c for c in res if c in C]\n",
    "end\n",
    "\n",
    "function add_cs_prereq(c, prereq...)\n",
    "    for t in T\n",
    "        @constraint(m, \n",
    "            x[get_cs_cls_id(c), t] <= \n",
    "            sum(x[get_cs_cls_id(p), i] for i in 1:t-1 for p in prereq)\n",
    "        )\n",
    "    end\n",
    "end\n",
    "\n",
    "function add_all_prereq()\n",
    "    add_cs_prereq(300, 200)\n",
    "    add_cs_prereq(354, 252)\n",
    "    add_cs_prereq(354, 300)\n",
    "\n",
    "    add_cs_prereq(506, 400)\n",
    "    add_cs_prereq(506, 407, 536, 537, 559, 564, 570, 679, 552)\n",
    "\n",
    "    add_cs_prereq(552, 352)\n",
    "    add_cs_prereq(552, 354)\n",
    "\n",
    "    for c in [400, 407, 513, 514, 534, 540, 570]\n",
    "        add_cs_prereq(c, 300)\n",
    "    end\n",
    "\n",
    "    for c in [536, 537, 538, 564]\n",
    "        add_cs_prereq(c, 354)\n",
    "        add_cs_prereq(c, 400)\n",
    "    end\n",
    "\n",
    "    for c in [520, 577]\n",
    "        add_cs_prereq(c, 400)\n",
    "        add_cs_prereq(c, 240, 475)\n",
    "    end\n",
    "\n",
    "    for c in [640, 642]\n",
    "        add_cs_prereq(c, 537)\n",
    "    end\n",
    "end\n",
    "\n",
    "function add_cs_grad_req()\n",
    "    C_basic = cs_lst(240, 252, 300, 354, 400)\n",
    "    C_theory = cs_lst(577, 520)\n",
    "    C_xware = cs_lst(407, 506, 536, 538, 537, 552, 564, 640, 642)\n",
    "    C_app = cs_lst(412, 425, 513, 514, 524, 525, 534, 540, 545, 547, 559, 570)\n",
    "    C_elec = cs_lst(\n",
    "        407, 412, 425, 435, 471, 475, 506, 513, 514, 520, 524, 525, 526, 532, \n",
    "        533, 534, 536, 537, 538, 539, 540, 545, 547, 552, 558, 559, 564, 567, \n",
    "        570, 576, 577, 579, 635, 640, 642, 679, 639)\n",
    "\n",
    "    \n",
    "    # Take all from basic computer sciences\n",
    "    for c in C_basic\n",
    "        @constraint(m, sum(x[c, t] for t in T) >= 1)\n",
    "    end\n",
    "\n",
    "    # Complete 1 for Theory of computer science\n",
    "    @constraint(m, sum(x[c, t] for t in T for c in C_theory) >= 1)\n",
    "\n",
    "    # Complete 2 for Software & Hardware\n",
    "    @constraint(m, sum(x[c, t] for t in T for c in C_xware) >= 2)\n",
    "\n",
    "    # Complete 1 for Applications\n",
    "    @constraint(m, sum(x[c, t] for t in T for c in C_app) >= 1)\n",
    "\n",
    "    # Complete 2 for Electives\n",
    "    @constraint(m, sum(x[c, t] for t in T for c in C_elec) >= 2)\n",
    "end\n",
    "\n",
    "function print_schedule(x)\n",
    "    for t in T\n",
    "        for c in C\n",
    "            if x[c, t] > 0\n",
    "                println(\"Semester \", t, \": take \\\"\", get_cls_full_name(c), \"\\\"\")\n",
    "            end\n",
    "        end\n",
    "    end\n",
    "end\n",
    "\n",
    "# m = Model(Cbc.Optimizer)\n",
    "m = Model(with_optimizer(Cbc.Optimizer, logLevel=0))\n",
    "\n",
    "@variable(m, x[C, T], Bin)\n",
    "\n",
    "# Max credit constraint\n",
    "for t in T\n",
    "    @constraint(m, sum(x[c, t] * credit(c) for c in C) <= max_credit)\n",
    "end\n",
    "\n",
    "# Do not retake class\n",
    "for c in C\n",
    "    @constraint(m, sum(x[c, t] for t in T) <= 1)\n",
    "end\n",
    "\n",
    "# CS graduation requirements\n",
    "add_cs_grad_req()\n",
    "\n",
    "# Prerequisites\n",
    "add_all_prereq()\n",
    "\n",
    "@objective(m, Min, sum(x[c, t] * t for c in C, t in T))\n",
    "\n",
    "optimize!(m)\n",
    "println(termination_status(m))\n",
    "x = value.(x)\n",
    "\n",
    "print_schedule(x)"
   ]
  },
  {
   "cell_type": "code",
   "execution_count": 107,
   "metadata": {
    "cell_id": "00012-1eb62620-f0f6-4fa1-90b6-e811c4483f02",
    "deepnote_cell_type": "code",
    "tags": []
   },
   "outputs": [],
   "source": [
    "# show(IOContext(stdout, :limit => false), \"text/plain\", cls_data[get_cs_cls_id(524)]);"
   ]
  },
  {
   "cell_type": "code",
   "execution_count": 108,
   "metadata": {},
   "outputs": [],
   "source": [
    "# for (k, v) in sort(cls_data)\n",
    "#     println(k, \": \", v[\"enrollmentPrerequisites\"])\n",
    "# end"
   ]
  },
  {
   "cell_type": "code",
   "execution_count": null,
   "metadata": {},
   "outputs": [],
   "source": []
  }
 ],
 "metadata": {
  "deepnote": {},
  "deepnote_execution_queue": [],
  "deepnote_notebook_id": "0ab71297-e41d-4397-88e4-c87a9b9c4413",
  "kernelspec": {
   "display_name": "Julia 1.5.3",
   "language": "julia",
   "name": "julia-1.5"
  },
  "language_info": {
   "file_extension": ".jl",
   "mimetype": "application/julia",
   "name": "julia",
   "version": "1.5.4"
  }
 },
 "nbformat": 4,
 "nbformat_minor": 1
}
